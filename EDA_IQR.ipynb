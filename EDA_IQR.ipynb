{
  "nbformat": 4,
  "nbformat_minor": 0,
  "metadata": {
    "colab": {
      "provenance": []
    },
    "kernelspec": {
      "name": "python3",
      "display_name": "Python 3"
    },
    "language_info": {
      "name": "python"
    }
  },
  "cells": [
    {
      "cell_type": "markdown",
      "source": [
        " **DETECT OUTLIER FOR 1.5*IQR RULE FOR YOUR DATA.**"
      ],
      "metadata": {
        "id": "hLOzcarVjorR"
      }
    },
    {
      "cell_type": "code",
      "execution_count": null,
      "metadata": {
        "id": "yXJ4Ec-GDc-v"
      },
      "outputs": [],
      "source": [
        "import numpy as np"
      ]
    },
    {
      "cell_type": "code",
      "source": [
        "#TO SORT THE VALUES\n",
        "\n",
        "values=[12,5,6,8,1,3,50,60]\n",
        "values_sort=np.sort(values)\n",
        "values_sort"
      ],
      "metadata": {
        "colab": {
          "base_uri": "https://localhost:8080/"
        },
        "id": "OHg0xnYgXQsh",
        "outputId": "3075162c-5833-4846-f0d0-78ca1e2e0dda"
      },
      "execution_count": null,
      "outputs": [
        {
          "output_type": "execute_result",
          "data": {
            "text/plain": [
              "array([ 1,  3,  5,  6,  8, 12, 50, 60])"
            ]
          },
          "metadata": {},
          "execution_count": 12
        }
      ]
    },
    {
      "cell_type": "code",
      "source": [
        "# CALCULATING THE VALUES OF Q1,Q2,Q3 AND INTERQUARTILE RANGE\n",
        "\n",
        "Q1 = np.percentile(values , 25 , method='midpoint')\n",
        "Q2 = np.percentile(values , 50 , method='midpoint')\n",
        "Q3 = np.percentile(values , 75 , method='midpoint')\n",
        "print(\"Q1 for above values is:\", Q1)\n",
        "print(\"Q2 for above values is:\", Q2)\n",
        "print(\"Q3 for above values is:\", Q3)\n",
        "IQR=Q3-Q1\n",
        "print(\"IQR for above values is:\",IQR)"
      ],
      "metadata": {
        "colab": {
          "base_uri": "https://localhost:8080/"
        },
        "id": "Il2Imwg5YZ_I",
        "outputId": "5764b66d-658a-4c1d-ba33-337ad1285efa"
      },
      "execution_count": null,
      "outputs": [
        {
          "output_type": "stream",
          "name": "stdout",
          "text": [
            "Q1 for above values is: 4.0\n",
            "Q2 for above values is: 7.0\n",
            "Q3 for above values is: 31.0\n",
            "IQR for above values is: 27.0\n"
          ]
        }
      ]
    },
    {
      "cell_type": "code",
      "source": [
        "# CALCULATING THE LOWER-LIMIT AND UPPER-LIMIT\n",
        "\n",
        "lower_limit= Q1-(1.5 * IQR)\n",
        "upper_limit= Q2+(1.5 * IQR)\n",
        "print(\"lower_limit is\",lower_limit)\n",
        "print(\"upper_limit is\",upper_limit)"
      ],
      "metadata": {
        "colab": {
          "base_uri": "https://localhost:8080/"
        },
        "id": "2Z6JW8wZcKIk",
        "outputId": "f7574ef8-d715-4b13-9f89-8e9ac7b06c89"
      },
      "execution_count": null,
      "outputs": [
        {
          "output_type": "stream",
          "name": "stdout",
          "text": [
            "lower_limit is -36.5\n",
            "upper_limit is 47.5\n"
          ]
        }
      ]
    },
    {
      "cell_type": "markdown",
      "source": [
        "NOTE: outlier is something which lies below the lower_limit and above the upper_limit."
      ],
      "metadata": {
        "id": "U6No-KVHkGx0"
      }
    },
    {
      "cell_type": "code",
      "source": [
        "# Checking outlier\n",
        "outlier=[]\n",
        "for i in values:\n",
        "  if ((i<lower_limit) or (i>upper_limit)):\n",
        "    outlier.append(i)\n",
        "print(\"Outliers is/are\", outlier)\n"
      ],
      "metadata": {
        "colab": {
          "base_uri": "https://localhost:8080/"
        },
        "id": "ztiHLVkBjOEA",
        "outputId": "d1aacb1e-a00f-4af6-da33-c30400597725"
      },
      "execution_count": null,
      "outputs": [
        {
          "output_type": "stream",
          "name": "stdout",
          "text": [
            "Outliers is/are [50, 60]\n"
          ]
        }
      ]
    },
    {
      "cell_type": "markdown",
      "source": [
        "**WRITE A SHORT NOTE ON WHY 1.5 VALUE IS CHOSEN?**"
      ],
      "metadata": {
        "id": "KFP4S5xbgkCr"
      }
    },
    {
      "cell_type": "markdown",
      "source": [
        "1.5 number clearly controls the sensitivity of the range and hence the decision rule.\n",
        "\n",
        "A bigger scale would make the outliers to be considered as data points while a smaller one would make some of the data points to be perceived as outliers. And none of these cases is desirable."
      ],
      "metadata": {
        "id": "w7QsfvH1gwm0"
      }
    },
    {
      "cell_type": "markdown",
      "source": [
        "When scale is taken as 1.5, then according to IQR Method any data which lies beyond 2.7σ from the mean (μ), on either side, shall be considered as outlier. And this decision range is the closest to what Gaussian Distribution tells us, i.e., 3σ.\n",
        " In other words, this makes the decision rule closest to what Gaussian Distribution considers for outlier detection, and this is exactly what we wanted.\n",
        "\n",
        "To get exactly 3σ, we need to take the scale = 1.7, but then 1.5 is more “symmetrical” than 1.7 and we’ve always been a little more inclined towards symmetry"
      ],
      "metadata": {
        "id": "1svc_bdahQ-8"
      }
    },
    {
      "cell_type": "markdown",
      "source": [
        "![Normal-Distribution-curve.jpg](data:image/jpeg;base64,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)"
      ],
      "metadata": {
        "id": "NxSZPpdNjT9j"
      }
    },
    {
      "cell_type": "markdown",
      "source": [
        "          Gaussian Distribution with steps of standard deviation"
      ],
      "metadata": {
        "id": "xRD48GQnmqhY"
      }
    }
  ]
}